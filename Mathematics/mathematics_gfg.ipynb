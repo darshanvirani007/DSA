{
  "cells": [
    {
      "cell_type": "markdown",
      "metadata": {
        "colab_type": "text",
        "id": "view-in-github"
      },
      "source": [
        "<a href=\"https://colab.research.google.com/github/darshanvirani007/DSA/blob/main/mathematics_gfg.ipynb\" target=\"_parent\"><img src=\"https://colab.research.google.com/assets/colab-badge.svg\" alt=\"Open In Colab\"/></a>"
      ]
    },
    {
      "cell_type": "code",
      "execution_count": 3,
      "metadata": {},
      "outputs": [
        {
          "name": "stdout",
          "output_type": "stream",
          "text": [
            "Sum of natural numbers is: 55.0\n"
          ]
        }
      ],
      "source": [
        "# Sum of natural numbers\n",
        "\n",
        "n = int(input(\"Enter any number: \"))\n",
        "sum = n * (n + 1) / 2\n",
        "print(\"Sum of natural numbers is:\",sum)"
      ]
    },
    {
      "cell_type": "code",
      "execution_count": 4,
      "metadata": {
        "colab": {
          "base_uri": "https://localhost:8080/"
        },
        "id": "zas15mwJG2yb",
        "outputId": "476b7dab-4aad-4a43-9aa5-135591d1861b"
      },
      "outputs": [
        {
          "name": "stdout",
          "output_type": "stream",
          "text": [
            "count of digits in given number is: 2\n"
          ]
        }
      ],
      "source": [
        "# count total digits of given number\n",
        "\n",
        "x = int(input(\"Enter any number: \"))\n",
        "result = 0\n",
        "\n",
        "while x > 0:\n",
        "  x = x//10\n",
        "  result = result + 1\n",
        "print(\"count of digits in given number is:\",result)"
      ]
    },
    {
      "cell_type": "code",
      "execution_count": 5,
      "metadata": {
        "colab": {
          "base_uri": "https://localhost:8080/"
        },
        "id": "CHzz1R3zXsje",
        "outputId": "0d9ef72d-ec82-47cc-e0c2-8073f4f4a3cb"
      },
      "outputs": [
        {
          "data": {
            "text/plain": [
              "True"
            ]
          },
          "execution_count": 5,
          "metadata": {},
          "output_type": "execute_result"
        }
      ],
      "source": [
        "# check number is palindrome or not\n",
        "\n",
        "def isPalindrome(n):\n",
        "  rev = 0\n",
        "  temp = n\n",
        "  while temp != 0:\n",
        "    rev = rev * 10 + temp % 10\n",
        "    temp = temp // 10\n",
        "  if n == rev:\n",
        "    return True\n",
        "  else:\n",
        "    return False\n",
        "\n",
        "isPalindrome(121)"
      ]
    },
    {
      "cell_type": "code",
      "execution_count": 9,
      "metadata": {},
      "outputs": [
        {
          "data": {
            "text/plain": [
              "3628800"
            ]
          },
          "execution_count": 9,
          "metadata": {},
          "output_type": "execute_result"
        }
      ],
      "source": [
        "# Factorial Number\n",
        "\n",
        "# 1) Iterative way\n",
        "\n",
        "def fact(n):\n",
        "\n",
        "    result = 1\n",
        "\n",
        "    for i in range(2, n+1):\n",
        "        result *= i\n",
        "    return result\n",
        "fact(10)\n",
        "\n",
        "# 2) Recursive way \n",
        "def fact(n):\n",
        "    if n == 0:\n",
        "        return 1\n",
        "    return n * fact(n-1)\n",
        "\n",
        "fact(10)"
      ]
    },
    {
      "cell_type": "code",
      "execution_count": 16,
      "metadata": {},
      "outputs": [
        {
          "name": "stdout",
          "output_type": "stream",
          "text": [
            "3\n"
          ]
        }
      ],
      "source": [
        "# Find Greatest common divisor for given numbers\n",
        "\n",
        "# 1) Euclidean Approach\n",
        "\n",
        "def gcd(a,b):\n",
        "    while a != b:\n",
        "        if a > b:\n",
        "            a = a - b\n",
        "        else:\n",
        "            b = b - a\n",
        "    return a\n",
        "\n",
        "gcd(12,15)\n",
        "\n",
        "# 2) Optimised Euclidean Approach\n",
        "\n",
        "def gcd(a,b):\n",
        "    if b == 0:\n",
        "        return a\n",
        "    return gcd(b, a%b)\n",
        "\n",
        "print(gcd(12,15))"
      ]
    },
    {
      "cell_type": "code",
      "execution_count": 3,
      "metadata": {},
      "outputs": [
        {
          "name": "stdout",
          "output_type": "stream",
          "text": [
            "12\n",
            "12\n"
          ]
        }
      ],
      "source": [
        "# Find Least Common Multiple of two numbers\n",
        "\n",
        "# 1) Naive Approach\n",
        "\n",
        "def lcm(a,b):\n",
        "    result = max(a,b)\n",
        "    while True:\n",
        "        if result % a == 0 and result % b == 0:\n",
        "            return result\n",
        "        result +=1\n",
        "    return result\n",
        "\n",
        "print(lcm(4,6))\n",
        "\n",
        "# 2) Efficient solution\n",
        "def gcd(a,b):\n",
        "    if b == 0:\n",
        "        return a\n",
        "    return gcd(b, a%b)\n",
        "\n",
        "def lcm(a,b):\n",
        "    return a * b // gcd(a,b)\n",
        "\n",
        "print(lcm(4,6))"
      ]
    },
    {
      "cell_type": "code",
      "execution_count": 6,
      "metadata": {},
      "outputs": [
        {
          "data": {
            "text/plain": [
              "True"
            ]
          },
          "execution_count": 6,
          "metadata": {},
          "output_type": "execute_result"
        }
      ],
      "source": [
        "# Check given number is prime or not\n",
        "\n",
        "# 1) Naive Approach\n",
        "\n",
        "def isPrime(n):\n",
        "    if n == 1:\n",
        "        return False\n",
        "    i = 2\n",
        "    while (i * i <= n):\n",
        "        if n % i == 0:\n",
        "            return False\n",
        "        i += 1\n",
        "    return True\n",
        "\n",
        "isPrime(8)\n",
        "\n",
        "# 2) Efficient way\n",
        "\n",
        "def isPrime(n):\n",
        "    if n == 1:\n",
        "        return False\n",
        "    if n == 2 or n == 3:\n",
        "        return True\n",
        "    if n % 2 == 0 or n % 3 == 0:\n",
        "        return False\n",
        "    i = 5\n",
        "    while (i * i <= n):\n",
        "        if n % i == 0 or n % (i + 2) == 0:\n",
        "            return False\n",
        "        i += 6\n",
        "    return True\n",
        "\n",
        "isPrime(7)"
      ]
    }
  ],
  "metadata": {
    "colab": {
      "authorship_tag": "ABX9TyPBXzxEFfCb6nFMheUThCfw",
      "include_colab_link": true,
      "provenance": []
    },
    "kernelspec": {
      "display_name": "Python 3",
      "name": "python3"
    },
    "language_info": {
      "codemirror_mode": {
        "name": "ipython",
        "version": 3
      },
      "file_extension": ".py",
      "mimetype": "text/x-python",
      "name": "python",
      "nbconvert_exporter": "python",
      "pygments_lexer": "ipython3",
      "version": "3.12.5"
    }
  },
  "nbformat": 4,
  "nbformat_minor": 0
}

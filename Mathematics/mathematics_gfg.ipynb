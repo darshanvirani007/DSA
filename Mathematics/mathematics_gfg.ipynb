{
  "nbformat": 4,
  "nbformat_minor": 0,
  "metadata": {
    "colab": {
      "provenance": [],
      "authorship_tag": "ABX9TyPBXzxEFfCb6nFMheUThCfw",
      "include_colab_link": true
    },
    "kernelspec": {
      "name": "python3",
      "display_name": "Python 3"
    },
    "language_info": {
      "name": "python"
    }
  },
  "cells": [
    {
      "cell_type": "markdown",
      "metadata": {
        "id": "view-in-github",
        "colab_type": "text"
      },
      "source": [
        "<a href=\"https://colab.research.google.com/github/darshanvirani007/DSA/blob/main/mathematics_gfg.ipynb\" target=\"_parent\"><img src=\"https://colab.research.google.com/assets/colab-badge.svg\" alt=\"Open In Colab\"/></a>"
      ]
    },
    {
      "cell_type": "code",
      "execution_count": null,
      "metadata": {
        "colab": {
          "base_uri": "https://localhost:8080/"
        },
        "id": "zas15mwJG2yb",
        "outputId": "476b7dab-4aad-4a43-9aa5-135591d1861b"
      },
      "outputs": [
        {
          "output_type": "stream",
          "name": "stdout",
          "text": [
            "Enter any number: 10\n",
            "count of digits in given number is: 2\n"
          ]
        }
      ],
      "source": [
        "# count total digits of given number\n",
        "\n",
        "x = int(input(\"Enter any number: \"))\n",
        "result = 0\n",
        "\n",
        "while x > 0:\n",
        "  x = x//10\n",
        "  result = result + 1\n",
        "print(\"count of digits in given number is:\",result)"
      ]
    },
    {
      "cell_type": "code",
      "source": [
        "# check number is palindrome or not\n",
        "\n",
        "def isPalindrome(n):\n",
        "  rev = 0\n",
        "  temp = n\n",
        "  while temp != 0:\n",
        "    rev = rev * 10 + temp % 10\n",
        "    temp = temp // 10\n",
        "  if n == rev:\n",
        "    return True\n",
        "  else:\n",
        "    return False\n",
        "\n",
        "isPalindrome(121)"
      ],
      "metadata": {
        "colab": {
          "base_uri": "https://localhost:8080/"
        },
        "id": "CHzz1R3zXsje",
        "outputId": "0d9ef72d-ec82-47cc-e0c2-8073f4f4a3cb"
      },
      "execution_count": null,
      "outputs": [
        {
          "output_type": "execute_result",
          "data": {
            "text/plain": [
              "True"
            ]
          },
          "metadata": {},
          "execution_count": 11
        }
      ]
    },
    {
      "cell_type": "code",
      "source": [],
      "metadata": {
        "id": "XbZc-Gy6czV9"
      },
      "execution_count": null,
      "outputs": []
    }
  ]
}